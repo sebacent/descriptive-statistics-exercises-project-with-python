{
    "cells": [
        {
            "cell_type": "markdown",
            "id": "ac622319",
            "metadata": {},
            "source": [
                "# Descriptive statistics problems"
            ]
        },
        {
            "cell_type": "markdown",
            "id": "aa8993e4",
            "metadata": {},
            "source": [
                "### Exercise 1"
            ]
        },
        {
            "cell_type": "markdown",
            "id": "5e0ab0d5",
            "metadata": {},
            "source": [
                "We will use Numpy to obtain information to describe statistically.\n",
                "\n",
                "- Generate an array of 100 elements following a normal distribution.\n",
                "- Generate an array of 100 elements following a chi-square distribution with 3 degrees of freedom.\n",
                "- Calculate the main metrics and statistical measures that best describe the two vectors."
            ]
        },
        {
            "cell_type": "code",
            "execution_count": 48,
            "id": "34720ab6",
            "metadata": {},
            "outputs": [
                {
                    "name": "stdout",
                    "output_type": "stream",
                    "text": [
                        "Array Normal data: \n",
                        "Medidas de tendencia central:\n",
                        " Media: 0.06183493276197984\n",
                        " Mediana: 0.17467803026667084\n",
                        " Moda: 0.4746113523431541\n",
                        "Medidas de dispersión:\n",
                        " Rango: 5.02895543838461\n",
                        " Varianza: 0.9937588370155722\n",
                        " Desviación estándar: 0.9968745342396766\n",
                        "Medidas de posición:\n",
                        " Cuatril 25: -0.5634280975115692\n",
                        " Cuatril 50: 0.17467803026667084 Cuatril 75: 0.6099325727791707\n",
                        " Medidas de forma: 0.4746113523431541 Asimetría: 0.4746113523431541\n",
                        " Curtosis : 0.4746113523431541\n",
                        "Medidas de forma:\n",
                        " Asimetría: -0.21046584844688107\n",
                        " Curtosis: -0.09770554947621157\n",
                        "\n",
                        "\n",
                        "\n",
                        "Array chi-square data: \n",
                        "Medidas de tendencia central:\n",
                        " Media: 2.807335734981005\n",
                        "Mediana: 2.0755064351006838\n",
                        " Moda: 3.946983679578488\n",
                        "Medidas de dispersión:\n",
                        " Rango: 12.07230147114192\n",
                        " Varianza: 5.703456896735217\n",
                        " Desviación estándar: 2.3881911348833067\n",
                        "Medidas de posición:\n",
                        " Cuatril 25: 0.9447815511092845\n",
                        " Cuatril 50: 2.0755064351006838 Cuatril 75: 3.899784361360855\n",
                        " Medidas de forma: 3.946983679578488 Asimetría: 3.946983679578488\n",
                        " Curtosis : 3.946983679578488\n",
                        "Medidas de forma:\n",
                        " Asimetría: 1.3384160683660553\n",
                        " Curtosis: 1.6941731948164023\n"
                    ]
                }
            ],
            "source": [
                "# TODO\n",
                "import numpy as np\n",
                "import statistics as stats\n",
                "from scipy.stats import skew\n",
                "from scipy.stats import kurtosis\n",
                "\n",
                "# NORMAL\n",
                "\n",
                "array_normal    = np.random.normal(size = 100)\n",
                "\n",
                "normal_mean     = stats.mean(array_normal)\n",
                "normal_mediana  = stats.median(array_normal)\n",
                "\n",
                "normal_moda     = stats.mode(array_normal)\n",
                "normal_rango    = max(array_normal) - min(array_normal)\n",
                "\n",
                "normal_varianza = stats.variance(array_normal)\n",
                "normal_std      = stats.stdev(array_normal)\n",
                "\n",
                "normal_cuat25   = np.percentile(array_normal,25)\n",
                "normal_cuat50   = np.percentile(array_normal,50)\n",
                "normal_cuat75   = np.percentile(array_normal,75)\n",
                "\n",
                "normal_skewness = skew(array_normal)\n",
                "normal_kurt     = kurtosis(array_normal)\n",
                "\n",
                "# CHI SQUARE\n",
                "df = 3 #grados de libertad\n",
                "array_chi = np.random.chisquare(df, 100)\n",
                "\n",
                "chi_mean     = stats.mean(array_chi)\n",
                "chi_mediana  = stats.median(array_chi)\n",
                "\n",
                "chi_moda     = stats.mode(array_chi)\n",
                "chi_rango    = max(array_chi) - min(array_chi)\n",
                "\n",
                "chi_varianza = stats.variance(array_chi)\n",
                "chi_std      = stats.stdev(array_chi)\n",
                "\n",
                "chi_cuat25   = np.percentile(array_chi,25)\n",
                "chi_cuat50   = np.percentile(array_chi,50)\n",
                "chi_cuat75   = np.percentile(array_chi,75)\n",
                "\n",
                "chi_skewness = skew(array_chi)\n",
                "chi_kurt = kurtosis(array_chi)\n",
                "\n",
                "print(f'Array Normal data: \\n'\n",
                "      f'Medidas de tendencia central:\\n'\n",
                "      f' Media: {normal_mean}\\n Mediana: {normal_mediana}\\n Moda: {normal_moda}\\n'\n",
                "      f'Medidas de dispersión:\\n'\n",
                "      f' Rango: {normal_rango}\\n Varianza: {normal_varianza}\\n'\n",
                "      f' Desviación estándar: {normal_std}\\n'\n",
                "      f'Medidas de posición:\\n Cuatril 25: {normal_cuat25}\\n Cuatril 50: {normal_cuat50}'\n",
                "      f' Cuatril 75: {normal_cuat75}\\n Medidas de forma: {normal_moda}'\n",
                "      f' Asimetría: {normal_moda}\\n Curtosis : {normal_moda}\\n'\n",
                "      f'Medidas de forma:\\n Asimetría: {normal_skewness}\\n Curtosis: {normal_kurt}'\n",
                "      )\n",
                "\n",
                "print(f'\\n\\n\\nArray chi-square data: \\n'\n",
                "      f'Medidas de tendencia central:\\n'\n",
                "      \n",
                "      f' Media: {chi_mean}\\nMediana: {chi_mediana}\\n Moda: {chi_moda}\\n'\n",
                "      f'Medidas de dispersión:\\n'\n",
                "      f' Rango: {chi_rango}\\n Varianza: {chi_varianza}\\n'\n",
                "      f' Desviación estándar: {chi_std}\\n'\n",
                "      f'Medidas de posición:\\n Cuatril 25: {chi_cuat25}\\n Cuatril 50: {chi_cuat50}'\n",
                "      f' Cuatril 75: {chi_cuat75}\\n Medidas de forma: {chi_moda}'\n",
                "      f' Asimetría: {chi_moda}\\n Curtosis : {chi_moda}\\n'\n",
                "      f'Medidas de forma:\\n Asimetría: {chi_skewness}\\n Curtosis: {chi_kurt}'\n",
                "      )"
            ]
        },
        {
            "cell_type": "markdown",
            "id": "46c70c3d",
            "metadata": {},
            "source": [
                "### Exercise 2\n",
                "\n",
                "Write a Python program to calculate the standard deviation of the following data:\n",
                "\n",
                "```py\n",
                "data = [4, 2, 5, 8, 6]\n",
                "```"
            ]
        },
        {
            "cell_type": "code",
            "execution_count": 49,
            "id": "d590308e",
            "metadata": {},
            "outputs": [
                {
                    "name": "stdout",
                    "output_type": "stream",
                    "text": [
                        "La desviación estándar es:  2.23606797749979\n"
                    ]
                }
            ],
            "source": [
                "# TODO\n",
                "import math\n",
                "import sys\n",
                "\n",
                "import statistics as stats\n",
                "\n",
                "def desviacion_std(data):\n",
                "    #saco el promedio\n",
                "    media = sum(data) / len(data)\n",
                "\n",
                "    #sumo el cuadrado de las diferencias con la media\n",
                "    suma_diff = sum((x-media) ** 2 for x in data)\n",
                "\n",
                "    #varianza\n",
                "    var = suma_diff / (len(data)-1)\n",
                "    \n",
                "    #devuelvo la desviación estándar\n",
                "    desviacion_estandar = var ** 0.5 \n",
                "    return desviacion_estandar\n",
                "data = [4, 2, 5, 8, 6]\n",
                "desv = desviacion_std(data)\n",
                "print('La desviación estándar es: ', desv)\n"
            ]
        }
    ],
    "metadata": {
        "interpreter": {
            "hash": "9248718ffe6ce6938b217e69dbcc175ea21f4c6b28a317e96c05334edae734bb"
        },
        "kernelspec": {
            "display_name": "Python 3.9.12 ('ML-BOOTCAMP')",
            "language": "python",
            "name": "python3"
        },
        "language_info": {
            "codemirror_mode": {
                "name": "ipython",
                "version": 3
            },
            "file_extension": ".py",
            "mimetype": "text/x-python",
            "name": "python",
            "nbconvert_exporter": "python",
            "pygments_lexer": "ipython3",
            "version": "3.11.4"
        }
    },
    "nbformat": 4,
    "nbformat_minor": 5
}
